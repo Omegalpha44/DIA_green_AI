{
 "cells": [
  {
   "cell_type": "code",
   "execution_count": 3,
   "metadata": {},
   "outputs": [],
   "source": [
    "# path to the dataset\n",
    "organic_image = r\".source\\Waste Classification Dataset\\Waste Classification Dataset\\waste_dataset\\organic\"\n",
    "recyclable_image = r\".source\\Waste Classification Dataset\\Waste Classification Dataset\\waste_dataset\\recyclable\""
   ]
  },
  {
   "cell_type": "code",
   "execution_count": 2,
   "metadata": {},
   "outputs": [
    {
     "name": "stdout",
     "output_type": "stream",
     "text": [
      "WARNING:tensorflow:From c:\\Python311\\Lib\\site-packages\\keras\\src\\losses.py:2976: The name tf.losses.sparse_softmax_cross_entropy is deprecated. Please use tf.compat.v1.losses.sparse_softmax_cross_entropy instead.\n",
      "\n"
     ]
    }
   ],
   "source": [
    "#import libraries\n",
    "import tensorflow as tf\n",
    "import numpy as np\n",
    "import matplotlib.pyplot as plt\n",
    "import os\n",
    "import cv2\n",
    "import random\n",
    "import pickle"
   ]
  },
  {
   "cell_type": "code",
   "execution_count": 4,
   "metadata": {},
   "outputs": [],
   "source": [
    "# Import the required libraries\n",
    "from sklearn.cluster import KMeans\n",
    "from sklearn.feature_extraction import image\n",
    "\n",
    "# Set the number of clusters\n",
    "n_clusters = 5\n",
    "\n",
    "# Load the images from the organic_image folder\n",
    "image_files = os.listdir(organic_image)\n",
    "images = []\n",
    "for file in image_files:\n",
    "    image_path = os.path.join(organic_image, file)\n",
    "    img = cv2.imread(image_path)\n",
    "    img = cv2.cvtColor(img, cv2.COLOR_BGR2RGB)\n",
    "    images.append(img)\n",
    "\n",
    "# Convert the images to feature vectors\n",
    "image_patches = []\n",
    "for img in images:\n",
    "    patches = image.extract_patches_2d(img, (8, 8))\n",
    "    image_patches.extend(patches)\n",
    "\n",
    "# Convert the patches to feature vectors\n",
    "X = np.array(image_patches).reshape(len(image_patches), -1)\n",
    "\n",
    "# Perform K-means clustering\n",
    "kmeans = KMeans(n_clusters=n_clusters)\n",
    "kmeans.fit(X)\n",
    "\n",
    "# Get the cluster labels\n",
    "labels = kmeans.labels_\n",
    "\n",
    "# Visualize the clustered images\n",
    "fig, axs = plt.subplots(1, n_clusters, figsize=(15, 5))\n",
    "for i in range(n_clusters):\n",
    "    cluster_images = [img for img, label in zip(images, labels) if label == i]\n",
    "    axs[i].imshow(random.choice(cluster_images))\n",
    "    axs[i].axis('off')\n",
    "    axs[i].set_title(f'Cluster {i+1}')\n",
    "\n",
    "plt.show()\n"
   ]
  },
  {
   "cell_type": "code",
   "execution_count": null,
   "metadata": {},
   "outputs": [],
   "source": [
    "# Load the images from the recyclable_image folder\n",
    "image_files = os.listdir(recyclable_image)\n",
    "images = []\n",
    "for file in image_files:\n",
    "    image_path = os.path.join(recyclable_image, file)\n",
    "    img = cv2.imread(image_path)\n",
    "    img = cv2.cvtColor(img, cv2.COLOR_BGR2RGB)\n",
    "    images.append(img)\n",
    "\n",
    "# Convert the images to feature vectors\n",
    "image_patches = []\n",
    "for img in images:\n",
    "    patches = image.extract_patches_2d(img, (8, 8))\n",
    "    image_patches.extend(patches)\n",
    "\n",
    "# Convert the patches to feature vectors\n",
    "X = np.array(image_patches).reshape(len(image_patches), -1)\n",
    "\n",
    "# Perform K-means clustering\n",
    "kmeans = KMeans(n_clusters=n_clusters)\n",
    "kmeans.fit(X)\n",
    "\n",
    "# Get the cluster labels\n",
    "labels = kmeans.labels_\n",
    "\n",
    "# Visualize the clustered images\n",
    "fig, axs = plt.subplots(1, n_clusters, figsize=(15, 5))\n",
    "for i in range(n_clusters):\n",
    "    cluster_images = [img for img, label in zip(images, labels) if label == i]\n",
    "    axs[i].imshow(random.choice(cluster_images))\n",
    "    axs[i].axis('off')\n",
    "    axs[i].set_title(f'Cluster {i+1}')\n",
    "\n",
    "plt.show()\n"
   ]
  }
 ],
 "metadata": {
  "kernelspec": {
   "display_name": "Python 3",
   "language": "python",
   "name": "python3"
  },
  "language_info": {
   "codemirror_mode": {
    "name": "ipython",
    "version": 3
   },
   "file_extension": ".py",
   "mimetype": "text/x-python",
   "name": "python",
   "nbconvert_exporter": "python",
   "pygments_lexer": "ipython3",
   "version": "3.11.5"
  }
 },
 "nbformat": 4,
 "nbformat_minor": 2
}
