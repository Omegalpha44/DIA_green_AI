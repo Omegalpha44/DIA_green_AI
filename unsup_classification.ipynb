{
 "cells": [
  {
   "cell_type": "code",
   "execution_count": 1,
   "metadata": {},
   "outputs": [],
   "source": [
    "# path to the dataset\n",
    "organic_image = r\".source\\Waste Classification Dataset\\Waste Classification Dataset\\waste_dataset\\organic\"\n",
    "recyclable_image = r\".source\\Waste Classification Dataset\\Waste Classification Dataset\\waste_dataset\\recyclable\""
   ]
  },
  {
   "cell_type": "code",
   "execution_count": 2,
   "metadata": {},
   "outputs": [
    {
     "name": "stdout",
     "output_type": "stream",
     "text": [
      "WARNING:tensorflow:From c:\\Users\\jules\\anaconda3\\lib\\site-packages\\keras\\src\\losses.py:2976: The name tf.losses.sparse_softmax_cross_entropy is deprecated. Please use tf.compat.v1.losses.sparse_softmax_cross_entropy instead.\n",
      "\n"
     ]
    }
   ],
   "source": [
    "#import libraries\n",
    "import tensorflow as tf\n",
    "import numpy as np\n",
    "import matplotlib.pyplot as plt\n",
    "import os\n",
    "import random\n",
    "import pickle"
   ]
  },
  {
   "cell_type": "code",
   "execution_count": 11,
   "metadata": {},
   "outputs": [
    {
     "name": "stderr",
     "output_type": "stream",
     "text": [
      "\n",
      "KeyboardInterrupt\n",
      "\n"
     ]
    }
   ],
   "source": [
    "# Import the required libraries\n",
    "from sklearn.cluster import KMeans\n",
    "from sklearn.feature_extraction import image\n",
    "\n",
    "# Set the number of clusters\n",
    "n_clusters = 5\n",
    "\n",
    "# Load the images from the organic_image folder\n",
    "image_files = os.listdir(organic_image)\n",
    "images = []\n",
    "for file in image_files:\n",
    "    image_path = os.path.join(organic_image, file)\n",
    "    img = cv2.imread(image_path)\n",
    "    img = cv2.cvtColor(img, cv2.COLOR_BGR2RGB)\n",
    "    images.append(img)\n",
    "\n",
    "# Convert the images to feature vectors\n",
    "image_patches = []\n",
    "for img in images:\n",
    "    patches = image.extract_patches_2d(img, (8, 8))\n",
    "    image_patches.extend(patches)\n",
    "\n",
    "# Convert the patches to feature vectors\n",
    "X = np.array(image_patches).reshape(len(image_patches), -1)\n",
    "\n",
    "# Perform K-means clustering\n",
    "kmeans = KMeans(n_clusters=n_clusters)\n",
    "kmeans.fit(X)\n",
    "\n",
    "# Get the cluster labels\n",
    "labels = kmeans.labels_\n",
    "\n",
    "# Visualize the clustered images\n",
    "fig, axs = plt.subplots(1, n_clusters, figsize=(15, 5))\n",
    "for i in range(n_clusters):\n",
    "    cluster_images = [img for img, label in zip(images, labels) if label == i]\n",
    "    axs[i].imshow(random.choice(cluster_images))\n",
    "    axs[i].axis('off')\n",
    "    axs[i].set_title(f'Cluster {i+1}')\n",
    "\n",
    "plt.show()\n"
   ]
  },
  {
   "cell_type": "code",
   "execution_count": null,
   "metadata": {},
   "outputs": [
    {
     "ename": "NameError",
     "evalue": "name 'cv2' is not defined",
     "output_type": "error",
     "traceback": [
      "\u001b[1;31m---------------------------------------------------------------------------\u001b[0m",
      "\u001b[1;31mNameError\u001b[0m                                 Traceback (most recent call last)",
      "\u001b[1;32mc:\\Users\\jules\\OneDrive\\Documents\\GitHub\\Green_AI\\DIA_green_AI\\DIA_green_AI-1\\unsup_classification.ipynb Cell 4\u001b[0m line \u001b[0;36m6\n\u001b[0;32m      <a href='vscode-notebook-cell:/c%3A/Users/jules/OneDrive/Documents/GitHub/Green_AI/DIA_green_AI/DIA_green_AI-1/unsup_classification.ipynb#W3sZmlsZQ%3D%3D?line=3'>4</a>\u001b[0m \u001b[39mfor\u001b[39;00m file \u001b[39min\u001b[39;00m image_files:\n\u001b[0;32m      <a href='vscode-notebook-cell:/c%3A/Users/jules/OneDrive/Documents/GitHub/Green_AI/DIA_green_AI/DIA_green_AI-1/unsup_classification.ipynb#W3sZmlsZQ%3D%3D?line=4'>5</a>\u001b[0m     image_path \u001b[39m=\u001b[39m os\u001b[39m.\u001b[39mpath\u001b[39m.\u001b[39mjoin(recyclable_image, file)\n\u001b[1;32m----> <a href='vscode-notebook-cell:/c%3A/Users/jules/OneDrive/Documents/GitHub/Green_AI/DIA_green_AI/DIA_green_AI-1/unsup_classification.ipynb#W3sZmlsZQ%3D%3D?line=5'>6</a>\u001b[0m     img \u001b[39m=\u001b[39m cv2\u001b[39m.\u001b[39mimread(image_path)\n\u001b[0;32m      <a href='vscode-notebook-cell:/c%3A/Users/jules/OneDrive/Documents/GitHub/Green_AI/DIA_green_AI/DIA_green_AI-1/unsup_classification.ipynb#W3sZmlsZQ%3D%3D?line=6'>7</a>\u001b[0m     img \u001b[39m=\u001b[39m cv2\u001b[39m.\u001b[39mcvtColor(img, cv2\u001b[39m.\u001b[39mCOLOR_BGR2RGB)\n\u001b[0;32m      <a href='vscode-notebook-cell:/c%3A/Users/jules/OneDrive/Documents/GitHub/Green_AI/DIA_green_AI/DIA_green_AI-1/unsup_classification.ipynb#W3sZmlsZQ%3D%3D?line=7'>8</a>\u001b[0m     images\u001b[39m.\u001b[39mappend(img)\n",
      "\u001b[1;31mNameError\u001b[0m: name 'cv2' is not defined"
     ]
    }
   ],
   "source": [
    "# Load the images from the recyclable_image folder\n",
    "image_files = os.listdir(recyclable_image)\n",
    "images = []\n",
    "for file in image_files:\n",
    "    image_path = os.path.join(recyclable_image, file)\n",
    "    img = cv2.imread(image_path)\n",
    "    img = cv2.cvtColor(img, cv2.COLOR_BGR2RGB)\n",
    "    images.append(img)\n",
    "\n",
    "# Convert the images to feature vectors\n",
    "image_patches = []\n",
    "for img in images:\n",
    "    patches = image.extract_patches_2d(img, (8, 8))\n",
    "    image_patches.extend(patches)\n",
    "\n",
    "# Convert the patches to feature vectors\n",
    "X = np.array(image_patches).reshape(len(image_patches), -1)\n",
    "\n",
    "# Perform K-means clustering\n",
    "kmeans = KMeans(n_clusters=n_clusters)\n",
    "kmeans.fit(X)\n",
    "\n",
    "# Get the cluster labels\n",
    "labels = kmeans.labels_\n",
    "\n",
    "# Visualize the clustered images\n",
    "fig, axs = plt.subplots(1, n_clusters, figsize=(15, 5))\n",
    "for i in range(n_clusters):\n",
    "    cluster_images = [img for img, label in zip(images, labels) if label == i]\n",
    "    axs[i].imshow(random.choice(cluster_images))\n",
    "    axs[i].axis('off')\n",
    "    axs[i].set_title(f'Cluster {i+1}')\n",
    "\n",
    "plt.show()\n"
   ]
  },
  {
   "cell_type": "code",
   "execution_count": 4,
   "metadata": {},
   "outputs": [
    {
     "ename": "FileNotFoundError",
     "evalue": "[WinError 3] Le chemin d’accès spécifié est introuvable: '.source\\\\Waste Classification Dataset\\\\Waste Classification Dataset\\\\waste_dataset\\\\recyclable\\\\organic'",
     "output_type": "error",
     "traceback": [
      "\u001b[1;31m---------------------------------------------------------------------------\u001b[0m",
      "\u001b[1;31mFileNotFoundError\u001b[0m                         Traceback (most recent call last)",
      "\u001b[1;32mc:\\Users\\jules\\OneDrive\\Documents\\GitHub\\Green_AI\\DIA_green_AI\\DIA_green_AI-1\\unsup_classification.ipynb Cell 5\u001b[0m line \u001b[0;36m1\n\u001b[0;32m     <a href='vscode-notebook-cell:/c%3A/Users/jules/OneDrive/Documents/GitHub/Green_AI/DIA_green_AI/DIA_green_AI-1/unsup_classification.ipynb#W4sZmlsZQ%3D%3D?line=10'>11</a>\u001b[0m folder_path \u001b[39m=\u001b[39m os\u001b[39m.\u001b[39mpath\u001b[39m.\u001b[39mjoin(recyclable_image, directory)\n\u001b[0;32m     <a href='vscode-notebook-cell:/c%3A/Users/jules/OneDrive/Documents/GitHub/Green_AI/DIA_green_AI/DIA_green_AI-1/unsup_classification.ipynb#W4sZmlsZQ%3D%3D?line=12'>13</a>\u001b[0m data \u001b[39m=\u001b[39m []\n\u001b[1;32m---> <a href='vscode-notebook-cell:/c%3A/Users/jules/OneDrive/Documents/GitHub/Green_AI/DIA_green_AI/DIA_green_AI-1/unsup_classification.ipynb#W4sZmlsZQ%3D%3D?line=13'>14</a>\u001b[0m \u001b[39mfor\u001b[39;00m filename \u001b[39min\u001b[39;00m os\u001b[39m.\u001b[39;49mlistdir(folder_path):\n\u001b[0;32m     <a href='vscode-notebook-cell:/c%3A/Users/jules/OneDrive/Documents/GitHub/Green_AI/DIA_green_AI/DIA_green_AI-1/unsup_classification.ipynb#W4sZmlsZQ%3D%3D?line=14'>15</a>\u001b[0m     file_path \u001b[39m=\u001b[39m os\u001b[39m.\u001b[39mpath\u001b[39m.\u001b[39mjoin(folder_path, filename)\n\u001b[0;32m     <a href='vscode-notebook-cell:/c%3A/Users/jules/OneDrive/Documents/GitHub/Green_AI/DIA_green_AI/DIA_green_AI-1/unsup_classification.ipynb#W4sZmlsZQ%3D%3D?line=15'>16</a>\u001b[0m     image \u001b[39m=\u001b[39m cv2\u001b[39m.\u001b[39mimread(file_path)\n",
      "\u001b[1;31mFileNotFoundError\u001b[0m: [WinError 3] Le chemin d’accès spécifié est introuvable: '.source\\\\Waste Classification Dataset\\\\Waste Classification Dataset\\\\waste_dataset\\\\recyclable\\\\organic'"
     ]
    }
   ],
   "source": [
    "import os\n",
    "import cv2\n",
    "import numpy as np\n",
    "from sklearn.cluster import DBSCAN\n",
    "import matplotlib.pyplot as plt\n",
    "\n",
    "\n",
    "sub_directories = ['organic', 'recyclable']\n",
    "\n",
    "for directory in sub_directories:\n",
    "    folder_path = os.path.join(recyclable_image, directory)\n",
    "\n",
    "    data = []\n",
    "    for filename in os.listdir(folder_path):\n",
    "        file_path = os.path.join(folder_path, filename)\n",
    "        image = cv2.imread(file_path)\n",
    "        \n",
    "        if image is not None:\n",
    "            # image = cv2.resize(image, (width, height))\n",
    "            \n",
    "            image_data = np.array(image.flatten(), dtype=np.float64)\n",
    "            data.append(image_data)\n",
    "        \n",
    "    if not data:\n",
    "        print(f\"Aucune donnée trouvée dans le dossier '{directory}'.\")\n",
    "        continue\n",
    "\n",
    "    data = np.array(data)\n",
    "    dbscan = DBSCAN(eps=0.5, min_samples=5)\n",
    "    clusters = dbscan.fit_predict(data)\n",
    "\n",
    "    plt.scatter(data[:, 0], data[:, 1], c=clusters, cmap='viridis', marker='o', s=50)\n",
    "    plt.title(f'Clustering dans le dossier \"{directory}\"')\n",
    "    plt.xlabel('Feature 1')\n",
    "    plt.ylabel('Feature 2')\n",
    "    plt.show()  "
   ]
  }
 ],
 "metadata": {
  "kernelspec": {
   "display_name": "Python 3",
   "language": "python",
   "name": "python3"
  },
  "language_info": {
   "codemirror_mode": {
    "name": "ipython",
    "version": 3
   },
   "file_extension": ".py",
   "mimetype": "text/x-python",
   "name": "python",
   "nbconvert_exporter": "python",
   "pygments_lexer": "ipython3",
   "version": "3.10.9"
  }
 },
 "nbformat": 4,
 "nbformat_minor": 2
}
