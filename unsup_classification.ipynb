{
 "cells": [
  {
   "cell_type": "code",
   "execution_count": 3,
   "metadata": {},
   "outputs": [],
   "source": [
    "# path to the dataset\n",
    "organic_image = r\".source\\Waste Classification Dataset\\Waste Classification Dataset\\waste_dataset\\organic\"\n",
    "recyclable_image = r\".source\\Waste Classification Dataset\\Waste Classification Dataset\\waste_dataset\\recyclable\""
   ]
  },
  {
   "cell_type": "code",
   "execution_count": 9,
   "metadata": {},
   "outputs": [],
   "source": [
    "#import libraries\n",
    "import tensorflow as tf\n",
    "import numpy as np\n",
    "import matplotlib.pyplot as plt\n",
    "import os\n",
    "import random\n",
    "import pickle"
   ]
  },
  {
   "cell_type": "code",
   "execution_count": 10,
   "metadata": {},
   "outputs": [
    {
     "ename": "NameError",
     "evalue": "name 'organic_image' is not defined",
     "output_type": "error",
     "traceback": [
      "\u001b[0;31m---------------------------------------------------------------------------\u001b[0m",
      "\u001b[0;31mNameError\u001b[0m                                 Traceback (most recent call last)",
      "Cell \u001b[0;32mIn[10], line 9\u001b[0m\n\u001b[1;32m      6\u001b[0m n_clusters \u001b[38;5;241m=\u001b[39m \u001b[38;5;241m5\u001b[39m\n\u001b[1;32m      8\u001b[0m \u001b[38;5;66;03m# Load the images from the organic_image folder\u001b[39;00m\n\u001b[0;32m----> 9\u001b[0m image_files \u001b[38;5;241m=\u001b[39m os\u001b[38;5;241m.\u001b[39mlistdir(\u001b[43morganic_image\u001b[49m)\n\u001b[1;32m     10\u001b[0m images \u001b[38;5;241m=\u001b[39m []\n\u001b[1;32m     11\u001b[0m \u001b[38;5;28;01mfor\u001b[39;00m file \u001b[38;5;129;01min\u001b[39;00m image_files:\n",
      "\u001b[0;31mNameError\u001b[0m: name 'organic_image' is not defined"
     ]
    }
   ],
   "source": [
    "# Import the required libraries\n",
    "from sklearn.cluster import KMeans\n",
    "from sklearn.feature_extraction import image\n",
    "\n",
    "# Set the number of clusters\n",
    "n_clusters = 5\n",
    "\n",
    "# Load the images from the organic_image folder\n",
    "image_files = os.listdir(organic_image)\n",
    "images = []\n",
    "for file in image_files:\n",
    "    image_path = os.path.join(organic_image, file)\n",
    "    img = cv2.imread(image_path)\n",
    "    img = cv2.cvtColor(img, cv2.COLOR_BGR2RGB)\n",
    "    images.append(img)\n",
    "\n",
    "# Convert the images to feature vectors\n",
    "image_patches = []\n",
    "for img in images:\n",
    "    patches = image.extract_patches_2d(img, (8, 8))\n",
    "    image_patches.extend(patches)\n",
    "\n",
    "# Convert the patches to feature vectors\n",
    "X = np.array(image_patches).reshape(len(image_patches), -1)\n",
    "\n",
    "# Perform K-means clustering\n",
    "kmeans = KMeans(n_clusters=n_clusters)\n",
    "kmeans.fit(X)\n",
    "\n",
    "# Get the cluster labels\n",
    "labels = kmeans.labels_\n",
    "\n",
    "# Visualize the clustered images\n",
    "fig, axs = plt.subplots(1, n_clusters, figsize=(15, 5))\n",
    "for i in range(n_clusters):\n",
    "    cluster_images = [img for img, label in zip(images, labels) if label == i]\n",
    "    axs[i].imshow(random.choice(cluster_images))\n",
    "    axs[i].axis('off')\n",
    "    axs[i].set_title(f'Cluster {i+1}')\n",
    "\n",
    "plt.show()\n"
   ]
  },
  {
   "cell_type": "code",
   "execution_count": 11,
   "metadata": {},
   "outputs": [
    {
     "ename": "NameError",
     "evalue": "name 'recyclable_image' is not defined",
     "output_type": "error",
     "traceback": [
      "\u001b[0;31m---------------------------------------------------------------------------\u001b[0m",
      "\u001b[0;31mNameError\u001b[0m                                 Traceback (most recent call last)",
      "Cell \u001b[0;32mIn[11], line 2\u001b[0m\n\u001b[1;32m      1\u001b[0m \u001b[38;5;66;03m# Load the images from the recyclable_image folder\u001b[39;00m\n\u001b[0;32m----> 2\u001b[0m image_files \u001b[38;5;241m=\u001b[39m os\u001b[38;5;241m.\u001b[39mlistdir(\u001b[43mrecyclable_image\u001b[49m)\n\u001b[1;32m      3\u001b[0m images \u001b[38;5;241m=\u001b[39m []\n\u001b[1;32m      4\u001b[0m \u001b[38;5;28;01mfor\u001b[39;00m file \u001b[38;5;129;01min\u001b[39;00m image_files:\n",
      "\u001b[0;31mNameError\u001b[0m: name 'recyclable_image' is not defined"
     ]
    }
   ],
   "source": [
    "# Load the images from the recyclable_image folder\n",
    "image_files = os.listdir(recyclable_image)\n",
    "images = []\n",
    "for file in image_files:\n",
    "    image_path = os.path.join(recyclable_image, file)\n",
    "    img = cv2.imread(image_path)\n",
    "    img = cv2.cvtColor(img, cv2.COLOR_BGR2RGB)\n",
    "    images.append(img)\n",
    "\n",
    "# Convert the images to feature vectors\n",
    "image_patches = []\n",
    "for img in images:\n",
    "    patches = image.extract_patches_2d(img, (8, 8))\n",
    "    image_patches.extend(patches)\n",
    "\n",
    "# Convert the patches to feature vectors\n",
    "X = np.array(image_patches).reshape(len(image_patches), -1)\n",
    "\n",
    "# Perform K-means clustering\n",
    "kmeans = KMeans(n_clusters=n_clusters)\n",
    "kmeans.fit(X)\n",
    "\n",
    "# Get the cluster labels\n",
    "labels = kmeans.labels_\n",
    "\n",
    "# Visualize the clustered images\n",
    "fig, axs = plt.subplots(1, n_clusters, figsize=(15, 5))\n",
    "for i in range(n_clusters):\n",
    "    cluster_images = [img for img, label in zip(images, labels) if label == i]\n",
    "    axs[i].imshow(random.choice(cluster_images))\n",
    "    axs[i].axis('off')\n",
    "    axs[i].set_title(f'Cluster {i+1}')\n",
    "\n",
    "plt.show()\n"
   ]
  },
  {
   "cell_type": "code",
   "execution_count": 4,
   "metadata": {},
   "outputs": [
    {
     "ename": "NameError",
     "evalue": "name 'organic_image' is not defined",
     "output_type": "error",
     "traceback": [
      "\u001b[0;31m---------------------------------------------------------------------------\u001b[0m",
      "\u001b[0;31mNameError\u001b[0m                                 Traceback (most recent call last)",
      "Cell \u001b[0;32mIn[4], line 4\u001b[0m\n\u001b[1;32m      1\u001b[0m \u001b[38;5;28;01mfrom\u001b[39;00m \u001b[38;5;21;01msklearn\u001b[39;00m\u001b[38;5;21;01m.\u001b[39;00m\u001b[38;5;21;01mcluster\u001b[39;00m \u001b[38;5;28;01mimport\u001b[39;00m DBSCAN\n\u001b[0;32m----> 4\u001b[0m main_directory \u001b[38;5;241m=\u001b[39m os\u001b[38;5;241m.\u001b[39mlistdir(\u001b[43morganic_image\u001b[49m)\n\u001b[1;32m      5\u001b[0m sub_directories \u001b[38;5;241m=\u001b[39m [\u001b[38;5;124m'\u001b[39m\u001b[38;5;124morganic\u001b[39m\u001b[38;5;124m'\u001b[39m, \u001b[38;5;124m'\u001b[39m\u001b[38;5;124mrecyclable\u001b[39m\u001b[38;5;124m'\u001b[39m]\n\u001b[1;32m      7\u001b[0m \u001b[38;5;28;01mfor\u001b[39;00m directory \u001b[38;5;129;01min\u001b[39;00m sub_directories:\n",
      "\u001b[0;31mNameError\u001b[0m: name 'organic_image' is not defined"
     ]
    }
   ],
   "source": [
    "from sklearn.cluster import DBSCAN\n",
    "\n",
    "\n",
    "main_directory = os.listdir(organic_image)\n",
    "sub_directories = ['organic', 'recyclable']\n",
    "\n",
    "for directory in sub_directories:\n",
    "    folder_path = os.path.join(main_directory, directory)\n",
    "    \n",
    "    if not os.path.isdir(folder_path):\n",
    "        print(f\"Le dossier '{directory}' n'existe pas dans le répertoire principal.\")\n",
    "        continue\n",
    "\n",
    "\n",
    "    data = []\n",
    "    for filename in os.listdir(folder_path):\n",
    "        file_path = os.path.join(folder_path, filename)\n",
    "        data.append(np.loadtxt(file_path))\n",
    "        \n",
    "    if not data:\n",
    "        print(f\"Aucune donnée trouvée dans le dossier '{directory}'.\")\n",
    "        continue\n",
    "\n",
    "    dbscan = DBSCAN(eps=0.5, min_samples=5)\n",
    "    clusters = dbscan.fit_predict(data)\n",
    "\n",
    "    plt.scatter(data[:, 0], data[:, 1], c=clusters, cmap='viridis', marker='o', s=50)\n",
    "    plt.title(f'Clustering dans le dossier \"{directory}\"')\n",
    "    plt.xlabel('Feature 1')\n",
    "    plt.ylabel('Feature 2')\n",
    "    plt.show()"
   ]
  }
 ],
 "metadata": {
  "kernelspec": {
   "display_name": "Python 3",
   "language": "python",
   "name": "python3"
  },
  "language_info": {
   "codemirror_mode": {
    "name": "ipython",
    "version": 3
   },
   "file_extension": ".py",
   "mimetype": "text/x-python",
   "name": "python",
   "nbconvert_exporter": "python",
   "pygments_lexer": "ipython3",
   "version": "3.11.0rc1"
  }
 },
 "nbformat": 4,
 "nbformat_minor": 2
}
