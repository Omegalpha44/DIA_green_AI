{
 "cells": [
  {
   "cell_type": "code",
   "execution_count": 1,
   "metadata": {},
   "outputs": [
    {
     "name": "stdout",
     "output_type": "stream",
     "text": [
      "organic image max length:  600\n",
      "organic image max height:  383\n",
      "organic image max size:  50625\n",
      "recyclable image max length:  1460\n",
      "recyclable image max height:  1500\n",
      "recyclable image max size:  2190000\n"
     ]
    }
   ],
   "source": [
    "import os\n",
    "from PIL import Image\n",
    "\n",
    "folder_path = \"organic\"\n",
    "\n",
    "# Get the list of files in the folder\n",
    "file_list = os.listdir(folder_path)\n",
    "\n",
    "image_size = []\n",
    "images_length = []\n",
    "images_height = []\n",
    "# Iterate over each file in the folder\n",
    "for file_name in file_list:\n",
    "    # Check if the file is an image\n",
    "    if file_name.endswith(\".jpg\") or file_name.endswith(\".png\"):\n",
    "        # Get the full file path\n",
    "        file_path = os.path.join(folder_path, file_name)\n",
    "        \n",
    "        # Open the image using PIL\n",
    "        image = Image.open(file_path)\n",
    "        \n",
    "        # Get the size of the image\n",
    "        image_size.append(image.size[0]*image.size[1])\n",
    "        \n",
    "        images_length.append(image.size[0])\n",
    "\n",
    "        images_height.append(image.size[1])\n",
    "        \n",
    "\n",
    "max_length = max(images_length)\n",
    "max_height = max(images_height)\n",
    "max_size = max(image_size)\n",
    "\n",
    "print(\"organic image max length: \", max_length)\n",
    "print(\"organic image max height: \", max_height)\n",
    "print(\"organic image max size: \", max_size)\n",
    "\n",
    "folder_path = \"recyclable\"\n",
    "\n",
    "# Get the list of files in the folder\n",
    "file_list = os.listdir(folder_path)\n",
    "\n",
    "image_size = []\n",
    "images_length = []\n",
    "images_height = []\n",
    "# Iterate over each file in the folder\n",
    "for file_name in file_list:\n",
    "    # Check if the file is an image\n",
    "    if file_name.endswith(\".jpg\") or file_name.endswith(\".png\"):\n",
    "        # Get the full file path\n",
    "        file_path = os.path.join(folder_path, file_name)\n",
    "        \n",
    "        # Open the image using PIL\n",
    "        image = Image.open(file_path)\n",
    "        \n",
    "        # Get the size of the image\n",
    "        image_size.append(image.size[0]*image.size[1])\n",
    "        \n",
    "        images_length.append(image.size[0])\n",
    "\n",
    "        images_height.append(image.size[1])\n",
    "        \n",
    "\n",
    "max_length = max(images_length)\n",
    "max_height = max(images_height)\n",
    "max_size = max(image_size)\n",
    "\n",
    "print(\"recyclable image max length: \", max_length)\n",
    "print(\"recyclable image max height: \", max_height)\n",
    "print(\"recyclable image max size: \", max_size)"
   ]
  }
 ],
 "metadata": {
  "kernelspec": {
   "display_name": "base",
   "language": "python",
   "name": "python3"
  },
  "language_info": {
   "codemirror_mode": {
    "name": "ipython",
    "version": 3
   },
   "file_extension": ".py",
   "mimetype": "text/x-python",
   "name": "python",
   "nbconvert_exporter": "python",
   "pygments_lexer": "ipython3",
   "version": "3.9.13"
  }
 },
 "nbformat": 4,
 "nbformat_minor": 2
}
