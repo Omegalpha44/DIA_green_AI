{
 "cells": [
  {
   "cell_type": "code",
   "execution_count": 18,
   "metadata": {},
   "outputs": [
    {
     "name": "stdout",
     "output_type": "stream",
     "text": [
      "organic image max length:  600\n",
      "organic image max height:  383\n",
      "organic image max size:  (225, 225)\n",
      "\n",
      "organic image min length:  51\n",
      "organic image min height:  69\n",
      "organic image min size:  (160, 107)\n",
      "\n",
      "organic image average dimensions: (260.5737752161383, 197.24279538904898)\n"
     ]
    }
   ],
   "source": [
    "import os\n",
    "from PIL import Image\n",
    "\n",
    "folder_path = \"organic\"\n",
    "\n",
    "# Get the list of files in the folder\n",
    "file_list = os.listdir(folder_path)\n",
    "\n",
    "image_size = []\n",
    "images_length = []\n",
    "images_height = []\n",
    "# Iterate over each file in the folder\n",
    "for file_name in file_list:\n",
    "    # Check if the file is an image\n",
    "    if file_name.endswith(\".jpg\") or file_name.endswith(\".png\"):\n",
    "        # Get the full file path\n",
    "        file_path = os.path.join(folder_path, file_name)\n",
    "        \n",
    "        # Open the image using PIL\n",
    "        image = Image.open(file_path)\n",
    "        \n",
    "        # Get the size of the image\n",
    "        image_size.append([image.size[0]*image.size[1],(image.size[0],image.size[1])])\n",
    "        \n",
    "        images_length.append(image.size[0])\n",
    "\n",
    "        images_height.append(image.size[1])\n",
    "        \n",
    "\n",
    "max_length = max(images_length)\n",
    "max_height = max(images_height)\n",
    "max_size = image_size[max(range(len(image_size)), key=lambda x: image_size[x][0])][1]\n",
    "\n",
    "min_length = min(images_length)\n",
    "min_height = min(images_height)\n",
    "min_size = image_size[min(range(len(image_size)), key=lambda x: image_size[x][0])][1]\n",
    "\n",
    "print(\"organic image max length: \", max_length)\n",
    "print(\"organic image max height: \", max_height)\n",
    "print(\"organic image max size: \", max_size)\n",
    "\n",
    "print(\"\\norganic image min length: \", min_length)\n",
    "print(\"organic image min height: \", min_height)\n",
    "print(\"organic image min size: \", min_size)\n",
    "\n",
    "print(f\"\\norganic image average dimensions: ({sum(images_length)/len(images_length)}, {sum(images_height)/len(images_height)})\")"
   ]
  },
  {
   "cell_type": "code",
   "execution_count": 19,
   "metadata": {},
   "outputs": [
    {
     "name": "stdout",
     "output_type": "stream",
     "text": [
      "[[50336, (208, 242)], [50325, (275, 183)], [50325, (275, 183)], [50578, (242, 209)], [50406, (271, 186)], [50451, (251, 201)], [50246, (259, 194)], [50325, (275, 183)], [50246, (194, 259)], [50325, (183, 275)]]\n",
      "[[50625, (225, 225)], [50625, (225, 225)], [50625, (225, 225)], [50625, (225, 225)], [50625, (225, 225)], [50625, (225, 225)], [50625, (225, 225)], [50625, (225, 225)], [50625, (225, 225)], [50625, (225, 225)]]\n",
      "[[19533, (51, 383)], [19432, (56, 347)], [19388, (74, 262)], [19350, (75, 258)], [19350, (75, 258)], [19380, (76, 255)], [19344, (78, 248)], [19578, (78, 251)], [19422, (78, 249)], [19488, (84, 232)]]\n",
      "[[41400, (600, 69)], [48000, (600, 80)], [50160, (570, 88)], [50196, (564, 89)], [50508, (549, 92)], [50290, (535, 94)], [50540, (532, 95)], [50149, (517, 97)], [50149, (517, 97)], [50391, (509, 99)]]\n"
     ]
    }
   ],
   "source": [
    "sorted_list_0 = sorted(image_size, key=lambda x: x[0], reverse=True)\n",
    "sorted_list_1 = sorted(image_size, key=lambda x: x[1][0])\n",
    "sorted_list_2 = sorted(image_size, key=lambda x: x[1][1])\n",
    "\n",
    "print(image_size[:10])\n",
    "print(sorted_list_0[:10])\n",
    "print(sorted_list_1[:10])\n",
    "print(sorted_list_2[:10])"
   ]
  },
  {
   "cell_type": "code",
   "execution_count": 20,
   "metadata": {},
   "outputs": [
    {
     "name": "stdout",
     "output_type": "stream",
     "text": [
      "recyclable image max length:  1460\n",
      "recyclable image max height:  1500\n",
      "recyclable image max size:  (1460, 1500)\n",
      "\n",
      "recyclable image min length:  56\n",
      "recyclable image min height:  88\n",
      "recyclable image min size:  (73, 264)\n",
      "\n",
      "organic image average dimensions: (242.01819861431872, 212.11630484988453)\n"
     ]
    }
   ],
   "source": [
    "folder_path = \"recyclable\"\n",
    "\n",
    "# Get the list of files in the folder\n",
    "file_list = os.listdir(folder_path)\n",
    "\n",
    "image_size = []\n",
    "images_length = []\n",
    "images_height = []\n",
    "# Iterate over each file in the folder\n",
    "for file_name in file_list:\n",
    "    # Check if the file is an image\n",
    "    if file_name.endswith(\".jpg\") or file_name.endswith(\".png\"):\n",
    "        # Get the full file path\n",
    "        file_path = os.path.join(folder_path, file_name)\n",
    "        \n",
    "        # Open the image using PIL\n",
    "        image = Image.open(file_path)\n",
    "        \n",
    "        # Get the size of the image\n",
    "        image_size.append([image.size[0]*image.size[1],(image.size[0],image.size[1])])\n",
    "        \n",
    "        images_length.append(image.size[0])\n",
    "\n",
    "        images_height.append(image.size[1])\n",
    "        \n",
    "\n",
    "max_length = max(images_length)\n",
    "max_height = max(images_height)\n",
    "max_size = image_size[max(range(len(image_size)), key=lambda x: image_size[x][0])][1]\n",
    "\n",
    "min_length = min(images_length)\n",
    "min_height = min(images_height)\n",
    "min_size = image_size[min(range(len(image_size)), key=lambda x: image_size[x][0])][1]\n",
    "\n",
    "print(\"recyclable image max length: \", max_length)\n",
    "print(\"recyclable image max height: \", max_height)\n",
    "print(\"recyclable image max size: \", max_size)\n",
    "\n",
    "print(\"\\nrecyclable image min length: \", min_length)\n",
    "print(\"recyclable image min height: \", min_height)\n",
    "print(\"recyclable image min size: \", min_size)\n",
    "\n",
    "print(f\"\\norganic image average dimensions: ({sum(images_length)/len(images_length)}, {sum(images_height)/len(images_height)})\")"
   ]
  },
  {
   "cell_type": "code",
   "execution_count": 21,
   "metadata": {},
   "outputs": [
    {
     "name": "stdout",
     "output_type": "stream",
     "text": [
      "[[50240, (314, 160)], [45000, (300, 150)], [50303, (269, 187)], [50400, (300, 168)], [50400, (240, 210)], [50625, (225, 225)], [50400, (225, 224)], [50625, (225, 225)], [50625, (225, 225)], [50625, (225, 225)]]\n",
      "[[2190000, (1460, 1500)], [50625, (225, 225)], [50625, (225, 225)], [50625, (225, 225)], [50625, (225, 225)], [50625, (225, 225)], [50625, (225, 225)], [50625, (225, 225)], [50625, (225, 225)], [50625, (225, 225)]]\n",
      "[[19376, (56, 346)], [19370, (65, 298)], [19390, (70, 277)], [19440, (72, 270)], [19368, (72, 269)], [19272, (73, 264)], [19345, (73, 265)], [19536, (74, 264)], [19536, (74, 264)], [19350, (75, 258)]]\n",
      "[[50072, (569, 88)], [50141, (551, 91)], [50140, (545, 92)], [50478, (537, 94)], [50149, (517, 97)], [50274, (513, 98)], [50300, (503, 100)], [50197, (497, 101)], [50184, (492, 102)], [50470, (490, 103)]]\n"
     ]
    }
   ],
   "source": [
    "sorted_list_0 = sorted(image_size, key=lambda x: x[0], reverse=True)\n",
    "sorted_list_1 = sorted(image_size, key=lambda x: x[1][0])\n",
    "sorted_list_2 = sorted(image_size, key=lambda x: x[1][1])\n",
    "\n",
    "print(image_size[:10])\n",
    "print(sorted_list_0[:10])\n",
    "print(sorted_list_1[:10])\n",
    "print(sorted_list_2[:10])"
   ]
  }
 ],
 "metadata": {
  "kernelspec": {
   "display_name": "base",
   "language": "python",
   "name": "python3"
  },
  "language_info": {
   "codemirror_mode": {
    "name": "ipython",
    "version": 3
   },
   "file_extension": ".py",
   "mimetype": "text/x-python",
   "name": "python",
   "nbconvert_exporter": "python",
   "pygments_lexer": "ipython3",
   "version": "3.10.9"
  }
 },
 "nbformat": 4,
 "nbformat_minor": 2
}
